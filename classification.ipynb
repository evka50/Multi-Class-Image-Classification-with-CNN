{
 "cells": [
  {
   "cell_type": "code",
   "execution_count": 1,
   "metadata": {},
   "outputs": [
    {
     "name": "stderr",
     "output_type": "stream",
     "text": [
      "Using TensorFlow backend.\n"
     ]
    }
   ],
   "source": [
    "import pandas as pd\n",
    "import numpy as np\n",
    "import os\n",
    "import tensorflow as tf\n",
    "import cv2\n",
    "from PIL import Image\n",
    "from tensorflow import keras\n",
    "from keras.models import Sequential\n",
    "from keras.preprocessing.image import ImageDataGenerator, array_to_img, img_to_array, load_img\n",
    "from keras.layers import Activation, Dense, Dropout\n",
    "from matplotlib import pyplot as plt\n",
    "import matplotlib.image as mpimg\n",
    "from keras.layers import Conv2D, MaxPooling2D\n",
    "from keras.layers import Flatten\n",
    "from sklearn.metrics import classification_report,confusion_matrix\n",
    "import random\n",
    "import csv\n",
    "%matplotlib inline"
   ]
  },
  {
   "cell_type": "markdown",
   "metadata": {},
   "source": [
    "Image Classification with 24 classes"
   ]
  },
  {
   "cell_type": "code",
   "execution_count": 2,
   "metadata": {},
   "outputs": [],
   "source": [
    "path = r'C:\\Users\\ekantzola\\MultiClassClassification\\dataset'\n",
    "image_size = 224\n",
    "\n",
    "classes = []\n",
    "for category in os.listdir(path):\n",
    "    classes.append(category)\n",
    "\n",
    "    \n",
    "data = [] #contains resized images with their corresponding label \n",
    "for c in classes:\n",
    "    label = classes.index(c) # label refers to the position in which 'c' occurs in the list\n",
    "    images = os.listdir(os.path.join(path,c))\n",
    "    for i in images:\n",
    "        img = cv2.imread(os.path.join(path,c,i))[...,::-1]\n",
    "        resized_img = cv2.resize(img, (image_size, image_size))\n",
    "        data.append([resized_img,label])"
   ]
  },
  {
   "cell_type": "code",
   "execution_count": 3,
   "metadata": {},
   "outputs": [],
   "source": [
    "Features = []\n",
    "labels = []\n",
    "\n",
    "for feature, label in data:\n",
    "    Features.append(feature)\n",
    "    labels.append(label)"
   ]
  },
  {
   "cell_type": "code",
   "execution_count": 4,
   "metadata": {},
   "outputs": [],
   "source": [
    "from sklearn.model_selection import train_test_split\n",
    "\n",
    "'''\n",
    "1. Split the dataset to training and test set; test set will be 20% of the dataset\n",
    "2. Split the training set to training and validation test; validation ser will be 20% of the training set\n",
    "'''\n",
    "\n",
    "X_train, X_test, y_train, y_test = train_test_split(Features, labels, test_size=0.2)\n",
    "X_train, X_val, y_train, y_val = train_test_split(X_train, y_train, test_size=0.2)"
   ]
  },
  {
   "cell_type": "markdown",
   "metadata": {},
   "source": [
    "Data Normalization\n",
    "---------------------------"
   ]
  },
  {
   "cell_type": "code",
   "execution_count": 5,
   "metadata": {},
   "outputs": [],
   "source": [
    "X_train = np.array(X_train)\n",
    "X_test = np.array(X_test)\n",
    "X_val = np.array(X_val)\n",
    "X_train = X_train.astype('float32') / 255\n",
    "X_test = X_test.astype('float32') / 255\n",
    "X_val = X_val.astype('float32') / 255\n",
    "\n",
    "y_train = np.array(y_train)\n",
    "y_test = np.array(y_test)\n",
    "y_val = np.array(y_val)"
   ]
  },
  {
   "cell_type": "markdown",
   "metadata": {},
   "source": [
    "Create the CNN architecture\n",
    "----------------------------------------\n",
    "\n",
    "Kernel Size --> (3,3)\n",
    "\n",
    "Input Shape --> (224,224,3)\n",
    "\n",
    "Activation function --> ReLU"
   ]
  },
  {
   "cell_type": "code",
   "execution_count": 6,
   "metadata": {
    "scrolled": true
   },
   "outputs": [
    {
     "name": "stdout",
     "output_type": "stream",
     "text": [
      "Model: \"sequential_1\"\n",
      "_________________________________________________________________\n",
      "Layer (type)                 Output Shape              Param #   \n",
      "=================================================================\n",
      "conv2d_1 (Conv2D)            (None, 222, 222, 32)      896       \n",
      "_________________________________________________________________\n",
      "max_pooling2d_1 (MaxPooling2 (None, 111, 111, 32)      0         \n",
      "_________________________________________________________________\n",
      "conv2d_2 (Conv2D)            (None, 109, 109, 32)      9248      \n",
      "_________________________________________________________________\n",
      "max_pooling2d_2 (MaxPooling2 (None, 54, 54, 32)        0         \n",
      "_________________________________________________________________\n",
      "conv2d_3 (Conv2D)            (None, 52, 52, 64)        18496     \n",
      "_________________________________________________________________\n",
      "max_pooling2d_3 (MaxPooling2 (None, 26, 26, 64)        0         \n",
      "_________________________________________________________________\n",
      "dropout_1 (Dropout)          (None, 26, 26, 64)        0         \n",
      "_________________________________________________________________\n",
      "flatten_1 (Flatten)          (None, 43264)             0         \n",
      "_________________________________________________________________\n",
      "dense_1 (Dense)              (None, 128)               5537920   \n",
      "_________________________________________________________________\n",
      "dropout_2 (Dropout)          (None, 128)               0         \n",
      "_________________________________________________________________\n",
      "dense_2 (Dense)              (None, 24)                3096      \n",
      "=================================================================\n",
      "Total params: 5,569,656\n",
      "Trainable params: 5,569,656\n",
      "Non-trainable params: 0\n",
      "_________________________________________________________________\n"
     ]
    }
   ],
   "source": [
    "num_classes = 24\n",
    "\n",
    "model = Sequential()\n",
    "model.add(Conv2D(32,kernel_size = (3,3), input_shape=(224,224,3), activation = 'relu'))\n",
    "model.add(MaxPooling2D(pool_size=(2,2)))\n",
    "\n",
    "model.add(Conv2D(32,kernel_size =(3,3), activation = 'relu'))\n",
    "model.add(MaxPooling2D(pool_size=(2,2)))\n",
    "\n",
    "model.add(Conv2D(64, kernel_size =(3,3), activation = 'relu'))\n",
    "model.add(MaxPooling2D(pool_size=(2,2)))\n",
    "model.add(Dropout(0.25))\n",
    "\n",
    "model.add(Flatten())\n",
    "model.add(Dense(128, activation = 'relu'))\n",
    "model.add(Dropout(0.5))\n",
    "model.add(Dense(num_classes, activation = 'softmax'))\n",
    "\n",
    "\n",
    "model.summary() # display the summary of the network"
   ]
  },
  {
   "cell_type": "markdown",
   "metadata": {},
   "source": [
    "Parameters:\n",
    "\n",
    "- Optimizer: Adam\n",
    "- Learning Rate: 0.001\n",
    "- Loss: 'sparse_categorical_crossentropy'\n",
    "- Activation function: softmax\n",
    "- Epochs: 10\n",
    "- Batch Size: 32"
   ]
  },
  {
   "cell_type": "code",
   "execution_count": 7,
   "metadata": {},
   "outputs": [],
   "source": [
    "optimizer = tf.keras.optimizers.Adam(learning_rate = 0.001)\n",
    "model.compile(optimizer= optimizer, loss= 'sparse_categorical_crossentropy', metrics= ['accuracy'])"
   ]
  },
  {
   "cell_type": "code",
   "execution_count": 8,
   "metadata": {
    "scrolled": true
   },
   "outputs": [
    {
     "name": "stdout",
     "output_type": "stream",
     "text": [
      "Train on 7286 samples, validate on 1822 samples\n",
      "Epoch 1/10\n",
      "7286/7286 [==============================] - 462s 63ms/step - loss: 1.8076 - accuracy: 0.4816 - val_loss: 0.9178 - val_accuracy: 0.7168\n",
      "Epoch 2/10\n",
      "7286/7286 [==============================] - 456s 63ms/step - loss: 0.9822 - accuracy: 0.7094 - val_loss: 0.6984 - val_accuracy: 0.7750\n",
      "Epoch 3/10\n",
      "7286/7286 [==============================] - 452s 62ms/step - loss: 0.7362 - accuracy: 0.7761 - val_loss: 0.6163 - val_accuracy: 0.8030\n",
      "Epoch 4/10\n",
      "7286/7286 [==============================] - 495s 68ms/step - loss: 0.6221 - accuracy: 0.8102 - val_loss: 0.5880 - val_accuracy: 0.8293\n",
      "Epoch 5/10\n",
      "7286/7286 [==============================] - 521s 72ms/step - loss: 0.5120 - accuracy: 0.8416 - val_loss: 0.5372 - val_accuracy: 0.8348\n",
      "Epoch 6/10\n",
      "7286/7286 [==============================] - 507s 70ms/step - loss: 0.3992 - accuracy: 0.8706 - val_loss: 0.5521 - val_accuracy: 0.8436\n",
      "Epoch 7/10\n",
      "7286/7286 [==============================] - 500s 69ms/step - loss: 0.3580 - accuracy: 0.8832 - val_loss: 0.5101 - val_accuracy: 0.8573\n",
      "Epoch 8/10\n",
      "7286/7286 [==============================] - 544s 75ms/step - loss: 0.3333 - accuracy: 0.8876 - val_loss: 0.5534 - val_accuracy: 0.8337\n",
      "Epoch 9/10\n",
      "7286/7286 [==============================] - 471s 65ms/step - loss: 0.2619 - accuracy: 0.9094 - val_loss: 0.6506 - val_accuracy: 0.8397\n",
      "Epoch 10/10\n",
      "7286/7286 [==============================] - 475s 65ms/step - loss: 0.2540 - accuracy: 0.9155 - val_loss: 0.6182 - val_accuracy: 0.8589\n"
     ]
    }
   ],
   "source": [
    "batch_size = 32\n",
    "epochs = 10\n",
    "\n",
    "history = model.fit(X_train, y_train,\n",
    "                    epochs= epochs,\n",
    "                    batch_size=batch_size,\n",
    "                    validation_data=(X_val, y_val))"
   ]
  },
  {
   "cell_type": "code",
   "execution_count": 9,
   "metadata": {},
   "outputs": [
    {
     "name": "stdout",
     "output_type": "stream",
     "text": [
      "2277/2277 [==============================] - 45s 20ms/step\n",
      "Test score is: 0.5784208704412742\n",
      "Test accuracy is: 0.8726394176483154\n"
     ]
    }
   ],
   "source": [
    "score, acc = model.evaluate(X_test, y_test, batch_size=batch_size)\n",
    "print(\"Test score is:\", score)\n",
    "print(\"Test accuracy is:\", acc)"
   ]
  },
  {
   "cell_type": "code",
   "execution_count": 10,
   "metadata": {},
   "outputs": [],
   "source": [
    "acc = history.history['accuracy']\n",
    "val_acc = history.history['val_accuracy']\n",
    "loss = history.history['loss']\n",
    "val_loss = history.history['val_loss']"
   ]
  },
  {
   "cell_type": "code",
   "execution_count": 12,
   "metadata": {},
   "outputs": [
    {
     "data": {
      "image/png": "[encoded data removed]",
      "text/plain": [
       "<Figure size 1080x1080 with 1 Axes>"
      ]
     },
     "metadata": {
      "needs_background": "light"
     },
     "output_type": "display_data"
    }
   ],
   "source": [
    "epochs_range = range(epochs)\n",
    "\n",
    "plt.figure(figsize=(15,15))\n",
    "plt.subplot(2,2,1)\n",
    "plt.plot(epochs_range, acc, label= 'Training Accuracy')\n",
    "plt.plot(epochs_range, val_acc, label= 'Validation Accuracy')\n",
    "plt.legend(loc='lower right')\n",
    "plt.title('Training and Validation Accuracy')\n",
    "plt.show()"
   ]
  },
  {
   "cell_type": "code",
   "execution_count": 13,
   "metadata": {},
   "outputs": [
    {
     "data": {
      "image/png": "[encoded data removed]",
      "text/plain": [
       "<Figure size 432x288 with 1 Axes>"
      ]
     },
     "metadata": {
      "needs_background": "light"
     },
     "output_type": "display_data"
    }
   ],
   "source": [
    "plt.plot(epochs_range, loss, label='Training Loss')\n",
    "plt.plot(epochs_range, val_loss, label='Validation Loss')\n",
    "plt.legend(loc='upper right')\n",
    "plt.title('Training and Validation Loss')\n",
    "plt.show()"
   ]
  },
  {
   "cell_type": "code",
   "execution_count": 14,
   "metadata": {
    "scrolled": true
   },
   "outputs": [
    {
     "name": "stdout",
     "output_type": "stream",
     "text": [
      "              precision    recall  f1-score   support\n",
      "\n",
      " black_dress       0.78      0.84      0.81        69\n",
      " black_pants       0.85      0.92      0.89       172\n",
      " black_shirt       0.89      0.90      0.89       150\n",
      " black_shoes       0.79      0.91      0.84       158\n",
      "black_shorts       0.83      0.68      0.75        66\n",
      "  blue_dress       0.96      0.86      0.91        88\n",
      "  blue_pants       0.93      0.83      0.87       189\n",
      "  blue_shirt       0.95      0.87      0.91       147\n",
      "  blue_shoes       0.82      0.87      0.84       100\n",
      " blue_shorts       0.74      0.60      0.67        48\n",
      " brown_pants       0.84      0.88      0.86        72\n",
      " brown_shoes       0.75      0.95      0.84        75\n",
      "brown_shorts       1.00      0.44      0.62         9\n",
      " green_pants       0.91      0.71      0.79        41\n",
      " green_shirt       1.00      0.98      0.99        47\n",
      " green_shoes       0.92      0.89      0.90        85\n",
      "green_shorts       0.78      0.84      0.81        25\n",
      "   red_dress       0.93      0.97      0.95       152\n",
      "   red_pants       0.91      0.84      0.88        58\n",
      "   red_shoes       0.94      0.89      0.92       132\n",
      " white_dress       0.94      0.92      0.93       179\n",
      " white_pants       0.70      0.86      0.78        66\n",
      " white_shoes       0.86      0.92      0.89       132\n",
      "white_shorts       0.71      0.29      0.42        17\n",
      "\n",
      "    accuracy                           0.87      2277\n",
      "   macro avg       0.86      0.82      0.83      2277\n",
      "weighted avg       0.88      0.87      0.87      2277\n",
      "\n"
     ]
    }
   ],
   "source": [
    "predictions = model.predict_classes(X_test)\n",
    "predictions = predictions.reshape(1,-1)[0]\n",
    "print(classification_report(y_test, predictions, target_names = classes))"
   ]
  }
 ],
 "metadata": {
  "kernelspec": {
   "display_name": "Python 3",
   "language": "python",
   "name": "python3"
  },
  "language_info": {
   "codemirror_mode": {
    "name": "ipython",
    "version": 3
   },
   "file_extension": ".py",
   "mimetype": "text/x-python",
   "name": "python",
   "nbconvert_exporter": "python",
   "pygments_lexer": "ipython3",
   "version": "3.8.3"
  }
 },
 "nbformat": 4,
 "nbformat_minor": 4
}
